{
 "cells": [
  {
   "cell_type": "code",
   "execution_count": 3,
   "metadata": {},
   "outputs": [
    {
     "name": "stdout",
     "output_type": "stream",
     "text": [
      "All CSV files have been merged and saved to C:\\Users\\Xinyi Liu\\OneDrive - University College London\\Research Assistant\\NEW Quant AI\\DAFNI\\ScenarioData\\TwoLinks\\combined_TwoLinks.csv\n"
     ]
    }
   ],
   "source": [
    "import os\n",
    "import pandas as pd\n",
    "\n",
    "# 设置CSV文件所在的目录\n",
    "directory = \"ScenarioData/TwoLinks\"\n",
    "\n",
    "# 初始化一个空的DataFrame列表\n",
    "df_list = []\n",
    "\n",
    "# 遍历目录中的所有文件\n",
    "for filename in os.listdir(directory):\n",
    "    if filename.endswith(\".csv\"):\n",
    "        # 构建文件路径\n",
    "        file_path = os.path.join(directory, filename)\n",
    "        # 读取CSV文件并添加到DataFrame列表中\n",
    "        df = pd.read_csv(file_path)\n",
    "        df_list.append(df)\n",
    "\n",
    "# 合并所有DataFrame\n",
    "combined_df = pd.concat(df_list, ignore_index=True)\n",
    "\n",
    "# 将合并后的DataFrame保存为一个新的CSV文件\n",
    "output_file = \"ScenarioData\\TwoLinks\\combined_TwoLinks.csv\"\n",
    "combined_df.to_csv(output_file, index=False)\n",
    "\n",
    "print(f\"All CSV files have been merged and saved to {output_file}\")\n"
   ]
  },
  {
   "cell_type": "code",
   "execution_count": 6,
   "metadata": {},
   "outputs": [
    {
     "name": "stdout",
     "output_type": "stream",
     "text": [
      "Merged data saved to C:\\Users\\Xinyi Liu\\OneDrive - University College London\\Research Assistant\\NEW Quant AI\\DAFNI\\ScenarioData\\TwoLinks\\combined_TwoLinks_with_coords.csv\n"
     ]
    }
   ],
   "source": [
    "import pandas as pd\n",
    "\n",
    "# 读取CSV文件\n",
    "zone_codes_df = pd.read_csv(r'C:\\Users\\Xinyi Liu\\OneDrive - University College London\\Research Assistant\\NEW Quant AI\\DAFNI\\EWS_ZoneCodes_xml.csv')\n",
    "two_links_df = pd.read_csv(r'C:\\Users\\Xinyi Liu\\OneDrive - University College London\\Research Assistant\\NEW Quant AI\\DAFNI\\ScenarioData\\TwoLinks\\combined_TwoLinks.csv')\n",
    "\n",
    "# 准备合并所需的列\n",
    "columns_to_merge = ['zonei', 'lat', 'lon']\n",
    "\n",
    "# 将列名修改为不同的命名，以便区分\n",
    "zone_codes_i0 = zone_codes_df[columns_to_merge].rename(columns={'zonei': 'net_i_0', 'lat': 'lat_i_0', 'lon': 'lon_i_0'})\n",
    "zone_codes_j0 = zone_codes_df[columns_to_merge].rename(columns={'zonei': 'net_j_0', 'lat': 'lat_j_0', 'lon': 'lon_j_0'})\n",
    "zone_codes_i1 = zone_codes_df[columns_to_merge].rename(columns={'zonei': 'net_i_1', 'lat': 'lat_i_1', 'lon': 'lon_i_1'})\n",
    "zone_codes_j1 = zone_codes_df[columns_to_merge].rename(columns={'zonei': 'net_j_1', 'lat': 'lat_j_1', 'lon': 'lon_j_1'})\n",
    "\n",
    "# 合并数据\n",
    "merged_df = two_links_df \\\n",
    "    .merge(zone_codes_i0, on='net_i_0', how='left') \\\n",
    "    .merge(zone_codes_j0, on='net_j_0', how='left') \\\n",
    "    .merge(zone_codes_i1, on='net_i_1', how='left') \\\n",
    "    .merge(zone_codes_j1, on='net_j_1', how='left')\n",
    "\n",
    "# 保存合并后的数据\n",
    "output_file = r'C:\\Users\\Xinyi Liu\\OneDrive - University College London\\Research Assistant\\NEW Quant AI\\DAFNI\\ScenarioData\\TwoLinks\\combined_TwoLinks_with_coords.csv'\n",
    "merged_df.to_csv(output_file, index=False)\n",
    "\n",
    "print(f\"Merged data saved to {output_file}\")\n"
   ]
  }
 ],
 "metadata": {
  "kernelspec": {
   "display_name": "tensorflow-cpu-new",
   "language": "python",
   "name": "python3"
  },
  "language_info": {
   "codemirror_mode": {
    "name": "ipython",
    "version": 3
   },
   "file_extension": ".py",
   "mimetype": "text/x-python",
   "name": "python",
   "nbconvert_exporter": "python",
   "pygments_lexer": "ipython3",
   "version": "3.8.18"
  }
 },
 "nbformat": 4,
 "nbformat_minor": 2
}
