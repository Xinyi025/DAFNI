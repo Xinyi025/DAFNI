{
 "cells": [
  {
   "cell_type": "code",
   "execution_count": 3,
   "metadata": {},
   "outputs": [],
   "source": [
    "import pandas as pd\n",
    "import glob\n",
    "\n",
    "folder_path = 'ScenarioData/'\n",
    "\n",
    "csv_files = glob.glob(folder_path + '/*.csv')\n",
    "\n",
    "df_list = []\n",
    "\n",
    "\n",
    "for filename in csv_files:\n",
    "    df = pd.read_csv(filename)\n",
    "    df.columns = df.columns.str.strip().str.replace(' ', '')\n",
    "    df_list.append(df)\n",
    "\n",
    "combined_df = pd.concat(df_list, ignore_index=True)\n",
    "\n",
    "combined_csv_path = folder_path + '\\\\combined.csv'  \n",
    "combined_df.to_csv(combined_csv_path, index=False)  "
   ]
  },
  {
   "cell_type": "code",
   "execution_count": 4,
   "metadata": {},
   "outputs": [
    {
     "ename": "",
     "evalue": "",
     "output_type": "error",
     "traceback": [
      "\u001b[1;31mThe Kernel crashed while executing code in the current cell or a previous cell. \n",
      "\u001b[1;31mPlease review the code in the cell(s) to identify a possible cause of the failure. \n",
      "\u001b[1;31mClick <a href='https://aka.ms/vscodeJupyterKernelCrash'>here</a> for more info. \n",
      "\u001b[1;31mView Jupyter <a href='command:jupyter.viewOutput'>log</a> for further details."
     ]
    }
   ],
   "source": [
    "import pandas as pd\n",
    "from sklearn.model_selection import train_test_split\n",
    "from sklearn.preprocessing import StandardScaler\n",
    "\n",
    "# Load the data\n",
    "dafni_impacts_path = 'ScenarioData/combined.csv'\n",
    "oidj_table_processed_path = 'OiDjTable.csv'\n",
    "\n",
    "dafni_impacts_df = pd.read_csv(dafni_impacts_path)\n",
    "oidj_table_processed_df = pd.read_csv(oidj_table_processed_path)\n",
    "\n",
    "# Data Integration\n",
    "oidj_table_processed_df.rename(columns={'zonei': 'zone'}, inplace=True)\n",
    "dafni_impacts_enriched_df = pd.merge(dafni_impacts_df, oidj_table_processed_df, left_on='net_i', right_on='zone', how='left')\n",
    "dafni_impacts_enriched_df.rename(columns={'Oi_all': 'Oi_net_i', 'Dj_all': 'Dj_net_i'}, inplace=True)\n",
    "dafni_impacts_enriched_df.drop(['zone'], axis=1, inplace=True)\n",
    "\n",
    "dafni_impacts_enriched_df = pd.merge(dafni_impacts_enriched_df, oidj_table_processed_df, left_on='net_j', right_on='zone', how='left')\n",
    "dafni_impacts_enriched_df.rename(columns={'Oi_all': 'Oi_net_j', 'Dj_all': 'Dj_net_j'}, inplace=True)\n",
    "dafni_impacts_enriched_df.drop(['zone'], axis=1, inplace=True)\n",
    "\n",
    "\n",
    "dafni_impacts_enriched_df.to_csv('OiDj_merged.csv')"
   ]
  }
 ],
 "metadata": {
  "kernelspec": {
   "display_name": "tensorflow-cpu-new",
   "language": "python",
   "name": "python3"
  },
  "language_info": {
   "codemirror_mode": {
    "name": "ipython",
    "version": 3
   },
   "file_extension": ".py",
   "mimetype": "text/x-python",
   "name": "python",
   "nbconvert_exporter": "python",
   "pygments_lexer": "ipython3",
   "version": "3.8.18"
  }
 },
 "nbformat": 4,
 "nbformat_minor": 2
}
